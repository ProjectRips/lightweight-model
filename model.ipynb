{
  "cells": [
    {
      "cell_type": "markdown",
      "metadata": {
        "id": "view-in-github",
        "colab_type": "text"
      },
      "source": [
        "<a href=\"https://colab.research.google.com/github/ProjectRips/lightweight-model/blob/main/model.ipynb\" target=\"_parent\"><img src=\"https://colab.research.google.com/assets/colab-badge.svg\" alt=\"Open In Colab\"/></a>"
      ]
    },
    {
      "cell_type": "markdown",
      "metadata": {
        "id": "XYvDs3I_XZEW"
      },
      "source": [
        "training & result"
      ]
    },
    {
      "cell_type": "code",
      "source": [
        "from google.colab import drive\n",
        "drive.mount(\"/content/gdrive/\", force_remount=True)"
      ],
      "metadata": {
        "colab": {
          "base_uri": "https://localhost:8080/"
        },
        "id": "uqRCZAdmX-UB",
        "outputId": "a0ea04c2-9eba-47c6-c281-ec148ebcef70"
      },
      "execution_count": 5,
      "outputs": [
        {
          "output_type": "stream",
          "name": "stdout",
          "text": [
            "Mounted at /content/gdrive/\n"
          ]
        }
      ]
    },
    {
      "cell_type": "code",
      "source": [
        "# !pip install fastai\n",
        "# !pip install fasterai\n",
        "# !pip install fastkaggle\n",
        "# !pip install timm\n",
        "# !pip install optuna\n",
        "# !pip install ipython-autotime\n",
        "# %load_ext autotime\n",
        "# !pip install memory_profiler\n"
      ],
      "metadata": {
        "colab": {
          "base_uri": "https://localhost:8080/"
        },
        "id": "HpBGEva7XcPL",
        "outputId": "abb61ad5-9cfd-4d4a-d25a-f9411ed4d1d0"
      },
      "execution_count": 50,
      "outputs": [
        {
          "output_type": "stream",
          "name": "stdout",
          "text": [
            "Looking in indexes: https://pypi.org/simple, https://us-python.pkg.dev/colab-wheels/public/simple/\n",
            "Collecting memory_profiler\n",
            "  Downloading memory_profiler-0.61.0-py3-none-any.whl (31 kB)\n",
            "Requirement already satisfied: psutil in /usr/local/lib/python3.8/dist-packages (from memory_profiler) (5.4.8)\n",
            "Installing collected packages: memory_profiler\n",
            "Successfully installed memory_profiler-0.61.0\n",
            "time: 3.69 s (started: 2023-01-29 14:08:54 +00:00)\n"
          ]
        }
      ]
    },
    {
      "cell_type": "code",
      "source": [
        "%cd /content/gdrive/MyDrive/Colab Notebooks/skripsi/lightweight"
      ],
      "metadata": {
        "colab": {
          "base_uri": "https://localhost:8080/"
        },
        "id": "2-x77wBFZheX",
        "outputId": "f158643a-fe88-4c71-91c3-d97440d697ae"
      },
      "execution_count": 7,
      "outputs": [
        {
          "output_type": "stream",
          "name": "stdout",
          "text": [
            "/content/gdrive/MyDrive/Colab Notebooks/skripsi/lightweight\n"
          ]
        }
      ]
    },
    {
      "cell_type": "code",
      "execution_count": 53,
      "metadata": {
        "colab": {
          "base_uri": "https://localhost:8080/"
        },
        "id": "nX04fCa9XZEa",
        "outputId": "94064e16-4d99-4518-b061-680245e5fb4e"
      },
      "outputs": [
        {
          "output_type": "stream",
          "name": "stdout",
          "text": [
            "time: 2.11 ms (started: 2023-01-29 14:17:35 +00:00)\n"
          ]
        }
      ],
      "source": [
        "from fastkaggle import *\n",
        "import timm\n",
        "from fastai.vision.all import *\n",
        "import gc\n",
        "import os\n",
        "from matplotlib import pyplot as plt\n",
        "import cv2\n",
        "from fasterai.sparse.all import *\n",
        "from memory_profiler import profile\n",
        "import tracemalloc\n",
        "set_seed(42)"
      ]
    },
    {
      "cell_type": "code",
      "source": [
        "from google.colab import files\n",
        "\n",
        "uploaded = files.upload()\n",
        "\n",
        "for fn in uploaded.keys():\n",
        "  print('User uploaded file \"{name}\" with length {length} bytes'.format(\n",
        "      name=fn, length=len(uploaded[fn])))\n",
        "  \n",
        "# Then move kaggle.json into the folder where the API expects to find it.\n",
        "!mkdir -p ~/.kaggle/ && mv kaggle.json ~/.kaggle/ && chmod 600 ~/.kaggle/kaggle.json"
      ],
      "metadata": {
        "colab": {
          "base_uri": "https://localhost:8080/",
          "height": 92
        },
        "id": "sa4h0qt4Z86e",
        "outputId": "520fca53-6853-43d1-eed8-e6bd2770fc57"
      },
      "execution_count": 13,
      "outputs": [
        {
          "output_type": "display_data",
          "data": {
            "text/plain": [
              "<IPython.core.display.HTML object>"
            ],
            "text/html": [
              "\n",
              "     <input type=\"file\" id=\"files-c34f40e1-a482-444b-a54f-004d67e32903\" name=\"files[]\" multiple disabled\n",
              "        style=\"border:none\" />\n",
              "     <output id=\"result-c34f40e1-a482-444b-a54f-004d67e32903\">\n",
              "      Upload widget is only available when the cell has been executed in the\n",
              "      current browser session. Please rerun this cell to enable.\n",
              "      </output>\n",
              "      <script>// Copyright 2017 Google LLC\n",
              "//\n",
              "// Licensed under the Apache License, Version 2.0 (the \"License\");\n",
              "// you may not use this file except in compliance with the License.\n",
              "// You may obtain a copy of the License at\n",
              "//\n",
              "//      http://www.apache.org/licenses/LICENSE-2.0\n",
              "//\n",
              "// Unless required by applicable law or agreed to in writing, software\n",
              "// distributed under the License is distributed on an \"AS IS\" BASIS,\n",
              "// WITHOUT WARRANTIES OR CONDITIONS OF ANY KIND, either express or implied.\n",
              "// See the License for the specific language governing permissions and\n",
              "// limitations under the License.\n",
              "\n",
              "/**\n",
              " * @fileoverview Helpers for google.colab Python module.\n",
              " */\n",
              "(function(scope) {\n",
              "function span(text, styleAttributes = {}) {\n",
              "  const element = document.createElement('span');\n",
              "  element.textContent = text;\n",
              "  for (const key of Object.keys(styleAttributes)) {\n",
              "    element.style[key] = styleAttributes[key];\n",
              "  }\n",
              "  return element;\n",
              "}\n",
              "\n",
              "// Max number of bytes which will be uploaded at a time.\n",
              "const MAX_PAYLOAD_SIZE = 100 * 1024;\n",
              "\n",
              "function _uploadFiles(inputId, outputId) {\n",
              "  const steps = uploadFilesStep(inputId, outputId);\n",
              "  const outputElement = document.getElementById(outputId);\n",
              "  // Cache steps on the outputElement to make it available for the next call\n",
              "  // to uploadFilesContinue from Python.\n",
              "  outputElement.steps = steps;\n",
              "\n",
              "  return _uploadFilesContinue(outputId);\n",
              "}\n",
              "\n",
              "// This is roughly an async generator (not supported in the browser yet),\n",
              "// where there are multiple asynchronous steps and the Python side is going\n",
              "// to poll for completion of each step.\n",
              "// This uses a Promise to block the python side on completion of each step,\n",
              "// then passes the result of the previous step as the input to the next step.\n",
              "function _uploadFilesContinue(outputId) {\n",
              "  const outputElement = document.getElementById(outputId);\n",
              "  const steps = outputElement.steps;\n",
              "\n",
              "  const next = steps.next(outputElement.lastPromiseValue);\n",
              "  return Promise.resolve(next.value.promise).then((value) => {\n",
              "    // Cache the last promise value to make it available to the next\n",
              "    // step of the generator.\n",
              "    outputElement.lastPromiseValue = value;\n",
              "    return next.value.response;\n",
              "  });\n",
              "}\n",
              "\n",
              "/**\n",
              " * Generator function which is called between each async step of the upload\n",
              " * process.\n",
              " * @param {string} inputId Element ID of the input file picker element.\n",
              " * @param {string} outputId Element ID of the output display.\n",
              " * @return {!Iterable<!Object>} Iterable of next steps.\n",
              " */\n",
              "function* uploadFilesStep(inputId, outputId) {\n",
              "  const inputElement = document.getElementById(inputId);\n",
              "  inputElement.disabled = false;\n",
              "\n",
              "  const outputElement = document.getElementById(outputId);\n",
              "  outputElement.innerHTML = '';\n",
              "\n",
              "  const pickedPromise = new Promise((resolve) => {\n",
              "    inputElement.addEventListener('change', (e) => {\n",
              "      resolve(e.target.files);\n",
              "    });\n",
              "  });\n",
              "\n",
              "  const cancel = document.createElement('button');\n",
              "  inputElement.parentElement.appendChild(cancel);\n",
              "  cancel.textContent = 'Cancel upload';\n",
              "  const cancelPromise = new Promise((resolve) => {\n",
              "    cancel.onclick = () => {\n",
              "      resolve(null);\n",
              "    };\n",
              "  });\n",
              "\n",
              "  // Wait for the user to pick the files.\n",
              "  const files = yield {\n",
              "    promise: Promise.race([pickedPromise, cancelPromise]),\n",
              "    response: {\n",
              "      action: 'starting',\n",
              "    }\n",
              "  };\n",
              "\n",
              "  cancel.remove();\n",
              "\n",
              "  // Disable the input element since further picks are not allowed.\n",
              "  inputElement.disabled = true;\n",
              "\n",
              "  if (!files) {\n",
              "    return {\n",
              "      response: {\n",
              "        action: 'complete',\n",
              "      }\n",
              "    };\n",
              "  }\n",
              "\n",
              "  for (const file of files) {\n",
              "    const li = document.createElement('li');\n",
              "    li.append(span(file.name, {fontWeight: 'bold'}));\n",
              "    li.append(span(\n",
              "        `(${file.type || 'n/a'}) - ${file.size} bytes, ` +\n",
              "        `last modified: ${\n",
              "            file.lastModifiedDate ? file.lastModifiedDate.toLocaleDateString() :\n",
              "                                    'n/a'} - `));\n",
              "    const percent = span('0% done');\n",
              "    li.appendChild(percent);\n",
              "\n",
              "    outputElement.appendChild(li);\n",
              "\n",
              "    const fileDataPromise = new Promise((resolve) => {\n",
              "      const reader = new FileReader();\n",
              "      reader.onload = (e) => {\n",
              "        resolve(e.target.result);\n",
              "      };\n",
              "      reader.readAsArrayBuffer(file);\n",
              "    });\n",
              "    // Wait for the data to be ready.\n",
              "    let fileData = yield {\n",
              "      promise: fileDataPromise,\n",
              "      response: {\n",
              "        action: 'continue',\n",
              "      }\n",
              "    };\n",
              "\n",
              "    // Use a chunked sending to avoid message size limits. See b/62115660.\n",
              "    let position = 0;\n",
              "    do {\n",
              "      const length = Math.min(fileData.byteLength - position, MAX_PAYLOAD_SIZE);\n",
              "      const chunk = new Uint8Array(fileData, position, length);\n",
              "      position += length;\n",
              "\n",
              "      const base64 = btoa(String.fromCharCode.apply(null, chunk));\n",
              "      yield {\n",
              "        response: {\n",
              "          action: 'append',\n",
              "          file: file.name,\n",
              "          data: base64,\n",
              "        },\n",
              "      };\n",
              "\n",
              "      let percentDone = fileData.byteLength === 0 ?\n",
              "          100 :\n",
              "          Math.round((position / fileData.byteLength) * 100);\n",
              "      percent.textContent = `${percentDone}% done`;\n",
              "\n",
              "    } while (position < fileData.byteLength);\n",
              "  }\n",
              "\n",
              "  // All done.\n",
              "  yield {\n",
              "    response: {\n",
              "      action: 'complete',\n",
              "    }\n",
              "  };\n",
              "}\n",
              "\n",
              "scope.google = scope.google || {};\n",
              "scope.google.colab = scope.google.colab || {};\n",
              "scope.google.colab._files = {\n",
              "  _uploadFiles,\n",
              "  _uploadFilesContinue,\n",
              "};\n",
              "})(self);\n",
              "</script> "
            ]
          },
          "metadata": {}
        },
        {
          "output_type": "stream",
          "name": "stdout",
          "text": [
            "Saving kaggle.json to kaggle (1).json\n",
            "User uploaded file \"kaggle.json\" with length 67 bytes\n"
          ]
        }
      ]
    },
    {
      "cell_type": "code",
      "execution_count": 14,
      "metadata": {
        "id": "9AiqZ76zXZEc"
      },
      "outputs": [],
      "source": [
        "comp = 'data'\n",
        "\n",
        "path = setup_comp(comp, install='\"fastcore>=1.4.5\" \"fastai>=2.7.1\" \"timm>=0.6.2.dev0\"')"
      ]
    },
    {
      "cell_type": "markdown",
      "metadata": {
        "id": "pr_NMUyCXZEc"
      },
      "source": []
    },
    {
      "cell_type": "code",
      "execution_count": 15,
      "metadata": {
        "colab": {
          "base_uri": "https://localhost:8080/"
        },
        "id": "OhR1TF0TXZEc",
        "outputId": "89c52187-994b-4ea3-d7d6-c15a6811b618"
      },
      "outputs": [
        {
          "output_type": "execute_result",
          "data": {
            "text/plain": [
              "Path('data')"
            ]
          },
          "metadata": {},
          "execution_count": 15
        }
      ],
      "source": [
        "path"
      ]
    },
    {
      "cell_type": "code",
      "execution_count": 16,
      "metadata": {
        "colab": {
          "base_uri": "https://localhost:8080/"
        },
        "id": "WXE6gnwBXZEd",
        "outputId": "58844d77-abb0-453a-c76e-c08280125dad"
      },
      "outputs": [
        {
          "output_type": "execute_result",
          "data": {
            "text/plain": [
              "(#2) [Path('data/test'),Path('data/train')]"
            ]
          },
          "metadata": {},
          "execution_count": 16
        }
      ],
      "source": [
        "path.ls()"
      ]
    },
    {
      "cell_type": "code",
      "execution_count": 17,
      "metadata": {
        "colab": {
          "base_uri": "https://localhost:8080/"
        },
        "id": "0qL87NDQXZEd",
        "outputId": "2497aa39-22db-4ceb-c669-e139dd4de3e0"
      },
      "outputs": [
        {
          "output_type": "stream",
          "name": "stdout",
          "text": [
            "data/train\n"
          ]
        }
      ],
      "source": [
        "trn_path = path/'train'\n",
        "files = get_image_files(trn_path)\n",
        "\n",
        "print(trn_path)"
      ]
    },
    {
      "cell_type": "code",
      "execution_count": 18,
      "metadata": {
        "id": "GNDUcA-IXZEd"
      },
      "outputs": [],
      "source": [
        "models = {\n",
        "    'convit_tiny': {\n",
        "        (Resize(480, method='squish'), 224)\n",
        "    },\n",
        "}\n"
      ]
    },
    {
      "cell_type": "code",
      "execution_count": 23,
      "metadata": {
        "id": "ef37ct2fXZEd"
      },
      "outputs": [],
      "source": [
        "def find_lr(arch, size, item=Resize(480, method='squish'), accum=1, finetune=True, epochs=15):\n",
        "    dls = ImageDataLoaders.from_folder(trn_path, valid_pct=0.25, item_tfms=item,\n",
        "        batch_tfms=aug_transforms(size=size, min_scale=0.75), bs=256//accum)\n",
        "    cbs = GradientAccumulation(64) if accum else []\n",
        "    learn = vision_learner(dls, arch, metrics=[error_rate], cbs=cbs).to_fp16()\n",
        "    lr_valley, lr_slide = learn.lr_find(suggest_funcs=(valley, slide))\n",
        "    \n",
        "    return lr_valley, lr_slide\n"
      ]
    },
    {
      "cell_type": "code",
      "execution_count": 24,
      "metadata": {
        "colab": {
          "base_uri": "https://localhost:8080/",
          "height": 397
        },
        "id": "GL49PV1SXZEe",
        "outputId": "6b5e0a5d-70a9-4491-a8ae-a7c14b8a6f09"
      },
      "outputs": [
        {
          "metadata": {
            "tags": null
          },
          "name": "stdout",
          "output_type": "stream",
          "text": [
            "--- convit_tiny\n",
            "224\n",
            "Resize -- {'size': (480, 480), 'method': 'squish', 'pad_mode': 'reflection', 'resamples': (2, 0), 'p': 1.0}\n"
          ]
        },
        {
          "data": {
            "text/html": [
              "\n",
              "<style>\n",
              "    /* Turns off some styling */\n",
              "    progress {\n",
              "        /* gets rid of default border in Firefox and Opera. */\n",
              "        border: none;\n",
              "        /* Needs to be in here for Safari polyfill so background images work as expected. */\n",
              "        background-size: auto;\n",
              "    }\n",
              "    progress:not([value]), progress:not([value])::-webkit-progress-bar {\n",
              "        background: repeating-linear-gradient(45deg, #7e7e7e, #7e7e7e 10px, #5c5c5c 10px, #5c5c5c 20px);\n",
              "    }\n",
              "    .progress-bar-interrupted, .progress-bar-interrupted::-webkit-progress-bar {\n",
              "        background: #F44336;\n",
              "    }\n",
              "</style>\n"
            ],
            "text/plain": [
              "<IPython.core.display.HTML object>"
            ]
          },
          "metadata": {},
          "output_type": "display_data"
        },
        {
          "data": {
            "text/html": [
              "\n",
              "    <div>\n",
              "      <progress value='0' class='' max='2' style='width:300px; height:20px; vertical-align: middle;'></progress>\n",
              "      0.00% [0/2 00:00&lt;?]\n",
              "    </div>\n",
              "    \n",
              "\n",
              "\n",
              "    <div>\n",
              "      <progress value='32' class='' max='97' style='width:300px; height:20px; vertical-align: middle;'></progress>\n",
              "      32.99% [32/97 06:30&lt;13:13 3.4784]\n",
              "    </div>\n",
              "    "
            ],
            "text/plain": [
              "<IPython.core.display.HTML object>"
            ]
          },
          "metadata": {},
          "output_type": "display_data"
        },
        {
          "output_type": "display_data",
          "data": {
            "text/plain": [
              "<IPython.core.display.HTML object>"
            ],
            "text/html": []
          },
          "metadata": {}
        },
        {
          "output_type": "display_data",
          "data": {
            "text/plain": [
              "<Figure size 432x288 with 1 Axes>"
            ],
            "image/png": "[encoded data removed]"
          },
          "metadata": {
            "needs_background": "light"
          }
        }
      ],
      "source": [
        "tta_res = []\n",
        "\n",
        "for arch,details in models.items():\n",
        "    for item,size in details:\n",
        "        print('---',arch)\n",
        "        print(size)\n",
        "        print(item.name)\n",
        "        \n",
        "        lr_valley, lr_slide = find_lr(arch, size, item=item, finetune=True, accum=4)\n",
        "    \n",
        "        gc.collect()\n",
        "        torch.cuda.empty_cache()"
      ]
    },
    {
      "cell_type": "code",
      "execution_count": null,
      "metadata": {
        "id": "zDDIC_SrXZEf"
      },
      "outputs": [],
      "source": [
        "# def train(arch, size, item=Resize(480, method='squish'), accum=1, finetune=True, epochs=15):\n",
        "#     dls = ImageDataLoaders.from_folder(trn_path, valid_pct=0.25, item_tfms=item,\n",
        "#                                        batch_tfms=aug_transforms(size=size, min_scale=0.75), bs=64//accum)\n",
        "\n",
        "#     cbs = [GradientAccumulation(64) if accum else [], EarlyStoppingCallback(min_delta=1e-4, patience=10), SaveModelCallback(monitor=\"valid_loss\")]\n",
        "#     learn = vision_learner(dls, arch, metrics=[accuracy, error_rate], cbs=cbs).to_fp16()\n",
        "#     learn.unfreeze()\n",
        "#     learn.recorder.train_metrics = True\n",
        "#     tst_files = get_image_files(path/'test').sorted()\n",
        "#     if finetune:\n",
        "#         learn.fine_tune(epochs, 0.01)\n",
        "#         learn.recorder.plot_loss()\n",
        "#         learn.recorder.plot_values()\n",
        "#         learn.tta(dl=dls.test_dl(tst_files))\n",
        "#     else:\n",
        "#         learn.unfreeze()\n",
        "#         learn.fit_one_cycle(epochs, 0.01)\n",
        "#         learn.recorder.plot_loss()\n",
        "#         learn.recorder.plot_values()\n",
        "\n",
        "#     return learn, dls\n"
      ]
    },
    {
      "cell_type": "code",
      "execution_count": 32,
      "metadata": {
        "id": "rbDmXQxrXZEf"
      },
      "outputs": [],
      "source": [
        "import optuna\n",
        "from optuna.integration import FastAIPruningCallback\n",
        "\n",
        "\n",
        "BATCHSIZE = 256\n",
        "EPOCHS = 1\n",
        "\n",
        "\n",
        "def objective(trial):\n",
        "    # Data Augmentation\n",
        "    # tfms = aug_transforms(\n",
        "    #         size=(Resize(480, method='squish'), 224), \n",
        "    #         min_scale=0.75,\n",
        "            # do_flip=False,\n",
        "            # flip_vert=False,\n",
        "            # max_rotate=trial.suggest_int(\"max_rotate\", 0, 45),\n",
        "            # max_zoom=trial.suggest_float(\"max_zoom\", 1, 2),\n",
        "            # p_affine=trial.suggest_float(\"p_affine\", 0.1, 1.0, step=0.1),\n",
        "    # )\n",
        "    data = ImageDataLoaders.from_folder(trn_path, valid_pct=0.25, item_tfms=(Resize(480, method='squish')),\n",
        "                                       batch_tfms=aug_transforms(size=224, min_scale=0.75), bs=64//4)\n",
        "\n",
        "    cbs = [ GradientAccumulation(64), \n",
        "           FastAIPruningCallback(trial)\n",
        "                ]\n",
        "    learn = vision_learner(\n",
        "        data,\n",
        "        'convit_tiny',\n",
        "        metrics=[accuracy],\n",
        "        # You could as FastAIPruningCallback in the fit function\n",
        "        cbs=cbs\n",
        "    )\n",
        "    learn.unfreeze()\n",
        "\n",
        "\n",
        "   \n",
        "\n",
        "    # See https://forums.fast.ai/t/how-to-diable-progress-bar-completely/65249/3\n",
        "    # to disable progress bar and logging info\n",
        "    with learn.no_bar():\n",
        "        with learn.no_logging():\n",
        "            learn.fit(\n",
        "            EPOCHS, \n",
        "            trial.suggest_float('lr', 1e-3, 1e-2), \n",
        "            cbs=[SparsifyCallback(sparsity=50, granularity='weight', context='local', criteria=large_final, schedule=agp)]\n",
        "        )\n",
        "\n",
        "    return learn.recorder.metrics[0].value.item()"
      ]
    },
    {
      "cell_type": "code",
      "execution_count": 33,
      "metadata": {
        "colab": {
          "base_uri": "https://localhost:8080/"
        },
        "id": "mUtTuGtKXZEg",
        "outputId": "4e152d87-fcb2-4717-863a-c4c046d6328b"
      },
      "outputs": [
        {
          "output_type": "stream",
          "name": "stdout",
          "text": [
            "Pruning of weight until a sparsity of [50]%\n",
            "Saving Weights at epoch 0\n"
          ]
        },
        {
          "output_type": "stream",
          "name": "stderr",
          "text": [
            "\u001b[32m[I 2023-01-29 13:34:33,577]\u001b[0m Trial 6 finished with value: 0.2485576868057251 and parameters: {'lr': 0.005972574348572739}. Best is trial 2 with value: 0.8567307591438293.\u001b[0m\n"
          ]
        },
        {
          "output_type": "stream",
          "name": "stdout",
          "text": [
            "Sparsity at the end of epoch 0: [50.0]%\n",
            "Final Sparsity: [50.0]%\n",
            "Sparsity in Conv2d 4: 50.00%\n",
            "Pruning of weight until a sparsity of [50]%\n",
            "Saving Weights at epoch 0\n"
          ]
        },
        {
          "output_type": "stream",
          "name": "stderr",
          "text": [
            "\u001b[32m[I 2023-01-29 13:36:16,629]\u001b[0m Trial 7 finished with value: 0.10528846085071564 and parameters: {'lr': 0.009243718551303341}. Best is trial 2 with value: 0.8567307591438293.\u001b[0m\n"
          ]
        },
        {
          "output_type": "stream",
          "name": "stdout",
          "text": [
            "Sparsity at the end of epoch 0: [50.0]%\n",
            "Final Sparsity: [50.0]%\n",
            "Sparsity in Conv2d 4: 50.00%\n"
          ]
        }
      ],
      "source": [
        "# sampler = optuna.samplers.TPESampler()    \n",
        "# study = optuna.create_study(\n",
        "#     study_name=\"example-study\",\n",
        "#     sampler=sampler,\n",
        "#     pruner=optuna.pruners.MedianPruner(\n",
        "#         n_startup_trials=2, n_warmup_steps=5, interval_steps=3\n",
        "#     ),\n",
        "#     direction='maximize',\n",
        "#     storage=\"sqlite:///convit.db\")\n",
        "\n",
        "# study.add_trials(study.trials)\n",
        "study = optuna.load_study(study_name=\"example-study\", storage=\"sqlite:///convit.db\")\n",
        "study.optimize(func=objective, n_trials=2)"
      ]
    },
    {
      "cell_type": "code",
      "execution_count": 41,
      "metadata": {
        "colab": {
          "base_uri": "https://localhost:8080/"
        },
        "id": "A2CTvV-BXZEh",
        "outputId": "a45f67ad-ef28-4770-9970-0e96d9ed879e"
      },
      "outputs": [
        {
          "output_type": "stream",
          "name": "stdout",
          "text": [
            "time: 730 µs (started: 2023-01-29 13:54:57 +00:00)\n"
          ]
        }
      ],
      "source": [
        "torch.cuda.empty_cache()"
      ]
    },
    {
      "cell_type": "code",
      "source": [
        "tst_files = get_image_files(path/'test').sorted()"
      ],
      "metadata": {
        "colab": {
          "base_uri": "https://localhost:8080/"
        },
        "id": "4bRjpKCX2NkC",
        "outputId": "14886b07-6e17-43c5-e8d8-ea388ab0ea4f"
      },
      "execution_count": 47,
      "outputs": [
        {
          "output_type": "stream",
          "name": "stdout",
          "text": [
            "time: 6.87 s (started: 2023-01-29 14:05:27 +00:00)\n"
          ]
        }
      ]
    },
    {
      "cell_type": "code",
      "execution_count": 54,
      "metadata": {
        "colab": {
          "base_uri": "https://localhost:8080/",
          "height": 621
        },
        "id": "MJ4eSe1LXZEh",
        "outputId": "16b82a16-f11d-4336-ef93-335bba75067b"
      },
      "outputs": [
        {
          "output_type": "stream",
          "name": "stdout",
          "text": [
            "--- vit_tiny_patch16_224\n",
            "224\n",
            "Resize -- {'size': (480, 480), 'method': 'squish', 'pad_mode': 'reflection', 'resamples': (2, 0), 'p': 1.0}\n",
            "Pruning of weight until a sparsity of [50]%\n",
            "Pruning of weight until a sparsity of [50]%\n",
            "Saving Weights at epoch 0\n",
            "Saving Weights at epoch 0\n"
          ]
        },
        {
          "output_type": "display_data",
          "data": {
            "text/plain": [
              "<IPython.core.display.HTML object>"
            ],
            "text/html": [
              "\n",
              "<style>\n",
              "    /* Turns off some styling */\n",
              "    progress {\n",
              "        /* gets rid of default border in Firefox and Opera. */\n",
              "        border: none;\n",
              "        /* Needs to be in here for Safari polyfill so background images work as expected. */\n",
              "        background-size: auto;\n",
              "    }\n",
              "    progress:not([value]), progress:not([value])::-webkit-progress-bar {\n",
              "        background: repeating-linear-gradient(45deg, #7e7e7e, #7e7e7e 10px, #5c5c5c 10px, #5c5c5c 20px);\n",
              "    }\n",
              "    .progress-bar-interrupted, .progress-bar-interrupted::-webkit-progress-bar {\n",
              "        background: #F44336;\n",
              "    }\n",
              "</style>\n"
            ]
          },
          "metadata": {}
        },
        {
          "output_type": "display_data",
          "data": {
            "text/plain": [
              "<IPython.core.display.HTML object>"
            ],
            "text/html": [
              "<table border=\"1\" class=\"dataframe\">\n",
              "  <thead>\n",
              "    <tr style=\"text-align: left;\">\n",
              "      <th>epoch</th>\n",
              "      <th>train_loss</th>\n",
              "      <th>valid_loss</th>\n",
              "      <th>accuracy</th>\n",
              "      <th>error_rate</th>\n",
              "      <th>time</th>\n",
              "    </tr>\n",
              "  </thead>\n",
              "  <tbody>\n",
              "    <tr>\n",
              "      <td>0</td>\n",
              "      <td>2.494053</td>\n",
              "      <td>2.028908</td>\n",
              "      <td>0.282212</td>\n",
              "      <td>0.717788</td>\n",
              "      <td>01:57</td>\n",
              "    </tr>\n",
              "  </tbody>\n",
              "</table>"
            ]
          },
          "metadata": {}
        },
        {
          "output_type": "stream",
          "name": "stdout",
          "text": [
            "Sparsity at the end of epoch 0: [50.0]%\n",
            "Sparsity at the end of epoch 0: [50.0]%\n",
            "Final Sparsity: [50.0]%\n",
            "Sparsity in Conv2d 4: 50.00%\n",
            "Final Sparsity: [0.0]%\n",
            "Sparsity in Conv2d 4: 50.00%\n",
            "(4354184, 5460853)\n"
          ]
        },
        {
          "output_type": "display_data",
          "data": {
            "text/plain": [
              "<Figure size 432x288 with 1 Axes>"
            ],
            "image/png": "[encoded data removed]"
          },
          "metadata": {
            "needs_background": "light"
          }
        },
        {
          "output_type": "stream",
          "name": "stdout",
          "text": [
            "time: 1min 59s (started: 2023-01-29 14:28:45 +00:00)\n"
          ]
        }
      ],
      "source": [
        "models = {\n",
        "    'vit_tiny_patch16_224': {\n",
        "        (Resize(480, method='squish'), 224),\n",
        "    }\n",
        "}\n",
        "\n",
        "tracemalloc.start()\n",
        "for arch, details in models.items():\n",
        "    for item, size in details:\n",
        "        print('---', arch)\n",
        "        print(size)\n",
        "        print(item.name)\n",
        "\n",
        "        dls = ImageDataLoaders.from_folder( trn_path, \n",
        "                                            valid_pct=0.25, \n",
        "                                            item_tfms=item,\n",
        "                                            batch_tfms=aug_transforms(size=size, min_scale=0.75), \n",
        "                                            bs=64//4\n",
        "                                            )\n",
        "\n",
        "        cbs = [ GradientAccumulation(64), \n",
        "                EarlyStoppingCallback(min_delta=1e-4, patience=10), \n",
        "                # SaveModelCallback(monitor=\"accuracy\"),\n",
        "                SparsifyCallback(sparsity=50, granularity='weight', context='local', criteria=large_final, schedule=agp), \n",
        "                FastAIPruningCallback(study.best_trial, monitor=\"accuracy\")\n",
        "                ]\n",
        "        learn = vision_learner(dls, arch, metrics=[\n",
        "            accuracy, error_rate], cbs=cbs).to_fp16()\n",
        "        \n",
        "        learn.unfreeze()\n",
        "        learn.fit_one_cycle(\n",
        "            1, \n",
        "            0.01, \n",
        "            cbs=[SparsifyCallback(sparsity=50, granularity='weight', context='local', criteria=large_final, schedule=agp), \n",
        "            FastAIPruningCallback(study.best_trial, monitor=\"accuracy\")]\n",
        "        )\n",
        "        learn.recorder.plot_loss()\n",
        "\n",
        "        gc.collect()\n",
        "        torch.cuda.empty_cache()\n",
        "print(tracemalloc.get_traced_memory())\n",
        "\n",
        "tracemalloc.stop()\n"
      ]
    },
    {
      "cell_type": "code",
      "execution_count": 43,
      "metadata": {
        "colab": {
          "base_uri": "https://localhost:8080/"
        },
        "id": "T6BvgwO7XZEi",
        "outputId": "f2ca2e50-c7a6-45fe-9838-fe025be5bed4"
      },
      "outputs": [
        {
          "output_type": "execute_result",
          "data": {
            "text/plain": [
              "(5629248, True)"
            ]
          },
          "metadata": {},
          "execution_count": 43
        },
        {
          "output_type": "stream",
          "name": "stdout",
          "text": [
            "time: 8.42 ms (started: 2023-01-29 13:57:23 +00:00)\n"
          ]
        }
      ],
      "source": [
        "total_params(learn.model)"
      ]
    },
    {
      "cell_type": "code",
      "source": [
        "models = {\n",
        "    'vit_tiny_patch16_224': {\n",
        "        (Resize(480, method='squish'), 224),\n",
        "    }\n",
        "}\n",
        "\n",
        "\n",
        "for arch, details in models.items():\n",
        "    for item, size in details:\n",
        "        print('---', arch)\n",
        "        print(size)\n",
        "        print(item.name)\n",
        "\n",
        "        dls = ImageDataLoaders.from_folder( trn_path, \n",
        "                                            valid_pct=0.25, \n",
        "                                            item_tfms=item,\n",
        "                                            batch_tfms=aug_transforms(size=size, min_scale=0.75), \n",
        "                                            bs=64//4\n",
        "                                            )\n",
        "\n",
        "        cbs = [ GradientAccumulation(64), \n",
        "                EarlyStoppingCallback(min_delta=1e-4, patience=10), \n",
        "                # SaveModelCallback(monitor=\"accuracy\"),\n",
        "                ]\n",
        "        learn = vision_learner(dls, arch, metrics=[\n",
        "            accuracy, error_rate], cbs=cbs).to_fp16()\n",
        "        learn.unfreeze()\n",
        "        learn.fit_one_cycle(\n",
        "            1, \n",
        "            0.01, \n",
        "            cbs=[SparsifyCallback(sparsity=50, granularity='weight', context='local', criteria=large_final, schedule=agp)] \n",
        "        )\n",
        "\n",
        "        gc.collect()\n",
        "        torch.cuda.empty_cache()\n"
      ],
      "metadata": {
        "colab": {
          "base_uri": "https://localhost:8080/",
          "height": 264
        },
        "id": "piwF-UibxUwJ",
        "outputId": "beaf4042-b4a1-4c56-b861-6f256986c793"
      },
      "execution_count": 44,
      "outputs": [
        {
          "output_type": "stream",
          "name": "stdout",
          "text": [
            "--- vit_tiny_patch16_224\n",
            "224\n",
            "Resize -- {'size': (480, 480), 'method': 'squish', 'pad_mode': 'reflection', 'resamples': (2, 0), 'p': 1.0}\n",
            "Pruning of weight until a sparsity of [50]%\n",
            "Saving Weights at epoch 0\n"
          ]
        },
        {
          "output_type": "display_data",
          "data": {
            "text/plain": [
              "<IPython.core.display.HTML object>"
            ],
            "text/html": [
              "\n",
              "<style>\n",
              "    /* Turns off some styling */\n",
              "    progress {\n",
              "        /* gets rid of default border in Firefox and Opera. */\n",
              "        border: none;\n",
              "        /* Needs to be in here for Safari polyfill so background images work as expected. */\n",
              "        background-size: auto;\n",
              "    }\n",
              "    progress:not([value]), progress:not([value])::-webkit-progress-bar {\n",
              "        background: repeating-linear-gradient(45deg, #7e7e7e, #7e7e7e 10px, #5c5c5c 10px, #5c5c5c 20px);\n",
              "    }\n",
              "    .progress-bar-interrupted, .progress-bar-interrupted::-webkit-progress-bar {\n",
              "        background: #F44336;\n",
              "    }\n",
              "</style>\n"
            ]
          },
          "metadata": {}
        },
        {
          "output_type": "display_data",
          "data": {
            "text/plain": [
              "<IPython.core.display.HTML object>"
            ],
            "text/html": [
              "<table border=\"1\" class=\"dataframe\">\n",
              "  <thead>\n",
              "    <tr style=\"text-align: left;\">\n",
              "      <th>epoch</th>\n",
              "      <th>train_loss</th>\n",
              "      <th>valid_loss</th>\n",
              "      <th>accuracy</th>\n",
              "      <th>error_rate</th>\n",
              "      <th>time</th>\n",
              "    </tr>\n",
              "  </thead>\n",
              "  <tbody>\n",
              "    <tr>\n",
              "      <td>0</td>\n",
              "      <td>2.391743</td>\n",
              "      <td>1.937220</td>\n",
              "      <td>0.303365</td>\n",
              "      <td>0.696635</td>\n",
              "      <td>01:46</td>\n",
              "    </tr>\n",
              "  </tbody>\n",
              "</table>"
            ]
          },
          "metadata": {}
        },
        {
          "output_type": "stream",
          "name": "stdout",
          "text": [
            "Sparsity at the end of epoch 0: [50.0]%\n",
            "Final Sparsity: [50.0]%\n",
            "Sparsity in Conv2d 4: 50.00%\n",
            "time: 1min 47s (started: 2023-01-29 13:57:23 +00:00)\n"
          ]
        }
      ]
    },
    {
      "cell_type": "code",
      "source": [
        "total_params(learn.model)"
      ],
      "metadata": {
        "colab": {
          "base_uri": "https://localhost:8080/"
        },
        "id": "c8pnkqEVxYFy",
        "outputId": "703358e5-066b-465a-855c-93fd38828c5a"
      },
      "execution_count": 45,
      "outputs": [
        {
          "output_type": "execute_result",
          "data": {
            "text/plain": [
              "(5629248, True)"
            ]
          },
          "metadata": {},
          "execution_count": 45
        },
        {
          "output_type": "stream",
          "name": "stdout",
          "text": [
            "time: 7.63 ms (started: 2023-01-29 13:59:11 +00:00)\n"
          ]
        }
      ]
    },
    {
      "cell_type": "code",
      "source": [],
      "metadata": {
        "id": "ZeSt1BtdyItm"
      },
      "execution_count": null,
      "outputs": []
    },
    {
      "cell_type": "code",
      "execution_count": null,
      "metadata": {
        "id": "KbymDj7CXZEi"
      },
      "outputs": [],
      "source": [
        "pruner = Pruner()\n",
        "pruned_model = pruner.prune_model(learn.model)"
      ]
    },
    {
      "cell_type": "code",
      "execution_count": null,
      "metadata": {
        "id": "iNWWuxt3XZEi"
      },
      "outputs": [],
      "source": [
        "from fastai.text.all import * \n",
        "learner= learn.load(\"vit_tiny_patch16_224\")"
      ]
    },
    {
      "cell_type": "code",
      "execution_count": null,
      "metadata": {
        "id": "BLMXvtXYXZEi"
      },
      "outputs": [],
      "source": [
        "interpret = ClassificationInterpretation.from_learner(learner)"
      ]
    },
    {
      "cell_type": "code",
      "execution_count": null,
      "metadata": {
        "id": "MYw0ykenXZEi"
      },
      "outputs": [],
      "source": [
        "interpret.print_classification_report()"
      ]
    },
    {
      "cell_type": "code",
      "execution_count": null,
      "metadata": {
        "id": "XdXc3_sXXZEj"
      },
      "outputs": [],
      "source": [
        "interpret.plot_confusion_matrix(title=\"vit_tiny_patch16_224\")"
      ]
    },
    {
      "cell_type": "code",
      "execution_count": null,
      "metadata": {
        "id": "gm1Eb4Z5XZEj"
      },
      "outputs": [],
      "source": [
        "for arch,details in models.items():\n",
        "    for item,size in details:        \n",
        "        dls = ImageDataLoaders.from_folder(trn_path, valid_pct=0.25, item_tfms=item,\n",
        "                batch_tfms=aug_transforms(size=size, min_scale=0.75), bs=32//4)\n",
        "        tst_files = get_image_files(path/'test').sorted()\n",
        "        tst_dl = dls.test_dl(tst_files, with_labels=True, num_workers=0)\n",
        "        tst_dl"
      ]
    },
    {
      "cell_type": "code",
      "execution_count": null,
      "metadata": {
        "id": "fe-IUYTqXZEj"
      },
      "outputs": [],
      "source": [
        "acc = accuracy(*learner.get_preds(dl=tst_dl))\n",
        "print('The accuracy is {0} %.'.format(acc))"
      ]
    }
  ],
  "metadata": {
    "kernelspec": {
      "display_name": "Python 3.8.1 64-bit",
      "language": "python",
      "name": "python3"
    },
    "language_info": {
      "codemirror_mode": {
        "name": "ipython",
        "version": 3
      },
      "file_extension": ".py",
      "mimetype": "text/x-python",
      "name": "python",
      "nbconvert_exporter": "python",
      "pygments_lexer": "ipython3",
      "version": "3.8.1"
    },
    "orig_nbformat": 4,
    "vscode": {
      "interpreter": {
        "hash": "e8e103f1427e845b325d32d1d1b7a680a975242c9df6a2c0532359a1c20fb4b0"
      }
    },
    "colab": {
      "provenance": [],
      "include_colab_link": true
    },
    "accelerator": "GPU",
    "gpuClass": "standard"
  },
  "nbformat": 4,
  "nbformat_minor": 0
}